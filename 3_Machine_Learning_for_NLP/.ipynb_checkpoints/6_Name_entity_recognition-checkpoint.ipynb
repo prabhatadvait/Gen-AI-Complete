{
 "cells": [
  {
   "cell_type": "code",
   "execution_count": 4,
   "id": "89ea41d4-ca81-4341-981a-61834dca6ed9",
   "metadata": {},
   "outputs": [],
   "source": [
    "sentences = \"The Eiffel Tower in Paris, France, has serious celeb status. Completed in March 1889, it's one of the most recognizable monuments in the world.\""
   ]
  },
  {
   "cell_type": "code",
   "execution_count": 6,
   "id": "761da027-331d-4d85-9fd0-4567898b8db0",
   "metadata": {},
   "outputs": [],
   "source": [
    "import nltk\n",
    "words = nltk.word_tokenize(sentences)"
   ]
  },
  {
   "cell_type": "code",
   "execution_count": 8,
   "id": "42c3e44c-6ed7-4994-88ca-f3bfe27a5406",
   "metadata": {},
   "outputs": [],
   "source": [
    "pos_tags = nltk.pos_tag(words)"
   ]
  },
  {
   "cell_type": "code",
   "execution_count": 10,
   "id": "dcc7ae40-613c-47d4-9842-37afd803d3d7",
   "metadata": {},
   "outputs": [
    {
     "data": {
      "text/plain": [
       "[('The', 'DT'),\n",
       " ('Eiffel', 'NNP'),\n",
       " ('Tower', 'NNP'),\n",
       " ('in', 'IN'),\n",
       " ('Paris', 'NNP'),\n",
       " (',', ','),\n",
       " ('France', 'NNP'),\n",
       " (',', ','),\n",
       " ('has', 'VBZ'),\n",
       " ('serious', 'JJ'),\n",
       " ('celeb', 'NN'),\n",
       " ('status', 'NN'),\n",
       " ('.', '.'),\n",
       " ('Completed', 'VBN'),\n",
       " ('in', 'IN'),\n",
       " ('March', 'NNP'),\n",
       " ('1889', 'CD'),\n",
       " (',', ','),\n",
       " ('it', 'PRP'),\n",
       " (\"'s\", 'VBZ'),\n",
       " ('one', 'CD'),\n",
       " ('of', 'IN'),\n",
       " ('the', 'DT'),\n",
       " ('most', 'RBS'),\n",
       " ('recognizable', 'JJ'),\n",
       " ('monuments', 'NNS'),\n",
       " ('in', 'IN'),\n",
       " ('the', 'DT'),\n",
       " ('world', 'NN'),\n",
       " ('.', '.')]"
      ]
     },
     "execution_count": 10,
     "metadata": {},
     "output_type": "execute_result"
    }
   ],
   "source": [
    "pos_tags"
   ]
  },
  {
   "cell_type": "code",
   "execution_count": 14,
   "id": "6af4567e-1906-4bd4-93c9-582d9f6d6b2b",
   "metadata": {},
   "outputs": [
    {
     "name": "stderr",
     "output_type": "stream",
     "text": [
      "[nltk_data] Downloading package maxent_ne_chunker_tab to\n",
      "[nltk_data]     /home/prabhat/nltk_data...\n",
      "[nltk_data]   Unzipping chunkers/maxent_ne_chunker_tab.zip.\n"
     ]
    },
    {
     "data": {
      "text/plain": [
       "True"
      ]
     },
     "execution_count": 14,
     "metadata": {},
     "output_type": "execute_result"
    }
   ],
   "source": [
    "import nltk\n",
    "nltk.download('maxent_ne_chunker_tab')"
   ]
  },
  {
   "cell_type": "code",
   "execution_count": 18,
   "id": "c4e8b66c-3f15-436f-8d07-03f5c18e6fcf",
   "metadata": {},
   "outputs": [
    {
     "name": "stderr",
     "output_type": "stream",
     "text": [
      "[nltk_data] Downloading package words to /home/prabhat/nltk_data...\n",
      "[nltk_data]   Unzipping corpora/words.zip.\n"
     ]
    },
    {
     "data": {
      "text/plain": [
       "True"
      ]
     },
     "execution_count": 18,
     "metadata": {},
     "output_type": "execute_result"
    }
   ],
   "source": [
    "import nltk\n",
    "nltk.download('words')"
   ]
  },
  {
   "cell_type": "code",
   "execution_count": 22,
   "id": "0e8f91a4-3425-47ed-9c45-83a8fc204e36",
   "metadata": {},
   "outputs": [],
   "source": [
    "nltk.ne_chunk(pos_tags).draw()"
   ]
  },
  {
   "cell_type": "code",
   "execution_count": null,
   "id": "441a3b17-ef38-4631-9637-d0bb9f3ecc2f",
   "metadata": {},
   "outputs": [],
   "source": []
  }
 ],
 "metadata": {
  "kernelspec": {
   "display_name": "Python [conda env:base] *",
   "language": "python",
   "name": "conda-base-py"
  },
  "language_info": {
   "codemirror_mode": {
    "name": "ipython",
    "version": 3
   },
   "file_extension": ".py",
   "mimetype": "text/x-python",
   "name": "python",
   "nbconvert_exporter": "python",
   "pygments_lexer": "ipython3",
   "version": "3.12.7"
  }
 },
 "nbformat": 4,
 "nbformat_minor": 5
}
