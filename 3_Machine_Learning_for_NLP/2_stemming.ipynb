{
 "cells": [
  {
   "cell_type": "code",
   "execution_count": 2,
   "id": "65017978-6b8a-4453-9a01-487f5db47408",
   "metadata": {},
   "outputs": [],
   "source": [
    "## classfication problem \n",
    "## Comments of product  is a positive reiview or negative review\n",
    "## Reviews----> eating,eat,eaten,[going,gone]\n",
    "\n",
    "words = [\"eating\",\"eats\",\"eaten\",\"going\",\"goes\",\"gone\",\"history\",\"writing\",\"writes\",\"programming\",\"programs\",\"congrats\",\"congratulations\"]"
   ]
  },
  {
   "cell_type": "markdown",
   "id": "fc93dfe0-8099-4a38-8ecb-0fcb2b498a1f",
   "metadata": {},
   "source": [
    "## PorterStemmer"
   ]
  },
  {
   "cell_type": "code",
   "execution_count": 5,
   "id": "86c29ba5-5ef1-4eb7-953f-9632a145893f",
   "metadata": {},
   "outputs": [],
   "source": [
    "from nltk.stem import PorterStemmer"
   ]
  },
  {
   "cell_type": "code",
   "execution_count": 7,
   "id": "b20a6e00-82b8-4856-94fd-51c0d37b8b62",
   "metadata": {},
   "outputs": [],
   "source": [
    "stemming = PorterStemmer()"
   ]
  },
  {
   "cell_type": "code",
   "execution_count": 9,
   "id": "50f68949-fa48-40ce-bcbf-861d0368ded2",
   "metadata": {},
   "outputs": [
    {
     "name": "stdout",
     "output_type": "stream",
     "text": [
      "eating---->eat\n",
      "eats---->eat\n",
      "eaten---->eaten\n",
      "going---->go\n",
      "goes---->goe\n",
      "gone---->gone\n",
      "history---->histori\n",
      "writing---->write\n",
      "writes---->write\n",
      "programming---->program\n",
      "programs---->program\n",
      "congrats---->congrat\n",
      "congratulations---->congratul\n"
     ]
    }
   ],
   "source": [
    "for word in words:\n",
    "    print(word+\"---->\"+stemming.stem(word))"
   ]
  },
  {
   "cell_type": "code",
   "execution_count": 11,
   "id": "a8560bd1-a630-4307-a9f2-3b616b4d87b4",
   "metadata": {},
   "outputs": [
    {
     "data": {
      "text/plain": [
       "'prabhat'"
      ]
     },
     "execution_count": 11,
     "metadata": {},
     "output_type": "execute_result"
    }
   ],
   "source": [
    "stemming.stem(\"prabhat\")"
   ]
  },
  {
   "cell_type": "markdown",
   "id": "6ac268ed-7f10-44e5-a4a9-38e1165a18b5",
   "metadata": {},
   "source": [
    "## RegexpStemmer"
   ]
  },
  {
   "cell_type": "code",
   "execution_count": 16,
   "id": "72dd26d6-809f-4e00-90a3-f7e9f2a29ac6",
   "metadata": {},
   "outputs": [],
   "source": [
    "from nltk.stem import RegexpStemmer"
   ]
  },
  {
   "cell_type": "code",
   "execution_count": 18,
   "id": "bf44c7ed-f2b0-4731-8a2f-8f4f8d3239a5",
   "metadata": {},
   "outputs": [],
   "source": [
    "reg_stemmer = RegexpStemmer('ing$|s$|es$|able$',min=4)"
   ]
  },
  {
   "cell_type": "code",
   "execution_count": 20,
   "id": "0d407ea3-ea9e-4fab-889a-162b3ed1ae82",
   "metadata": {},
   "outputs": [
    {
     "data": {
      "text/plain": [
       "'eat'"
      ]
     },
     "execution_count": 20,
     "metadata": {},
     "output_type": "execute_result"
    }
   ],
   "source": [
    "reg_stemmer.stem('eating')"
   ]
  },
  {
   "cell_type": "code",
   "execution_count": 22,
   "id": "0b26ca62-02b7-4c44-8350-925a97153c2a",
   "metadata": {},
   "outputs": [
    {
     "data": {
      "text/plain": [
       "'ingeat'"
      ]
     },
     "execution_count": 22,
     "metadata": {},
     "output_type": "execute_result"
    }
   ],
   "source": [
    "reg_stemmer.stem('ingeating')"
   ]
  },
  {
   "cell_type": "code",
   "execution_count": 24,
   "id": "bb6f7dbf-f136-43d3-84b9-03c265507e8c",
   "metadata": {},
   "outputs": [
    {
     "data": {
      "text/plain": [
       "'go'"
      ]
     },
     "execution_count": 24,
     "metadata": {},
     "output_type": "execute_result"
    }
   ],
   "source": [
    "reg_stemmer.stem('goes')"
   ]
  },
  {
   "cell_type": "markdown",
   "id": "4a8db245-d64d-4182-a6a6-c8cc6a594faa",
   "metadata": {},
   "source": [
    "## Snowball Stemmer"
   ]
  },
  {
   "cell_type": "code",
   "execution_count": 27,
   "id": "4f41e0d0-93bb-4247-b469-2a7d12eebbb2",
   "metadata": {},
   "outputs": [],
   "source": [
    "from nltk.stem import SnowballStemmer"
   ]
  },
  {
   "cell_type": "code",
   "execution_count": 29,
   "id": "06fb6a00-6079-4472-97f4-d306430be510",
   "metadata": {},
   "outputs": [],
   "source": [
    "snowball_stemmer = SnowballStemmer('english')"
   ]
  },
  {
   "cell_type": "code",
   "execution_count": 31,
   "id": "1f3f5aa6-76f5-4a68-ae0e-11a726832cb1",
   "metadata": {},
   "outputs": [
    {
     "name": "stdout",
     "output_type": "stream",
     "text": [
      "eating---->eat\n",
      "eats---->eat\n",
      "eaten---->eaten\n",
      "going---->go\n",
      "goes---->goe\n",
      "gone---->gone\n",
      "history---->histori\n",
      "writing---->write\n",
      "writes---->write\n",
      "programming---->program\n",
      "programs---->program\n",
      "congrats---->congrat\n",
      "congratulations---->congratul\n"
     ]
    }
   ],
   "source": [
    "for word in words:\n",
    "    print(word+\"---->\"+snowball_stemmer.stem(word))"
   ]
  },
  {
   "cell_type": "code",
   "execution_count": 33,
   "id": "7be30c8c-817a-4e9b-a574-c88d6ce39f5c",
   "metadata": {},
   "outputs": [
    {
     "data": {
      "text/plain": [
       "('fairli', 'sportingli')"
      ]
     },
     "execution_count": 33,
     "metadata": {},
     "output_type": "execute_result"
    }
   ],
   "source": [
    "stemming.stem(\"fairly\"),stemming.stem(\"sportingly\")"
   ]
  },
  {
   "cell_type": "code",
   "execution_count": 35,
   "id": "0ad288e9-647c-4f68-aa3d-fa36967393b5",
   "metadata": {},
   "outputs": [
    {
     "data": {
      "text/plain": [
       "('fair', 'sport')"
      ]
     },
     "execution_count": 35,
     "metadata": {},
     "output_type": "execute_result"
    }
   ],
   "source": [
    "snowball_stemmer.stem(\"fairly\"),snowball_stemmer.stem(\"sportingly\")"
   ]
  },
  {
   "cell_type": "code",
   "execution_count": null,
   "id": "8d049103-3df0-4bad-a598-e1e35a13b27e",
   "metadata": {},
   "outputs": [],
   "source": []
  }
 ],
 "metadata": {
  "kernelspec": {
   "display_name": "Python [conda env:base] *",
   "language": "python",
   "name": "conda-base-py"
  },
  "language_info": {
   "codemirror_mode": {
    "name": "ipython",
    "version": 3
   },
   "file_extension": ".py",
   "mimetype": "text/x-python",
   "name": "python",
   "nbconvert_exporter": "python",
   "pygments_lexer": "ipython3",
   "version": "3.12.7"
  }
 },
 "nbformat": 4,
 "nbformat_minor": 5
}
